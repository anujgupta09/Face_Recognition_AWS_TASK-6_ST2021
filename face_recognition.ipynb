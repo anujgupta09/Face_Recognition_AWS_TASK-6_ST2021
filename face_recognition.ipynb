{
 "cells": [
  {
   "cell_type": "code",
   "execution_count": null,
   "metadata": {},
   "outputs": [],
   "source": [
    "##########################################################\n",
    "#################################---- create training data"
   ]
  },
  {
   "cell_type": "code",
   "execution_count": 2,
   "metadata": {},
   "outputs": [],
   "source": [
    "import cv2\n",
    "import os\n",
    "import numpy as np"
   ]
  },
  {
   "cell_type": "code",
   "execution_count": 3,
   "metadata": {},
   "outputs": [
    {
     "name": "stderr",
     "output_type": "stream",
     "text": [
      "<>:20: SyntaxWarning: \"is\" with a literal. Did you mean \"==\"?\n",
      "<>:20: SyntaxWarning: \"is\" with a literal. Did you mean \"==\"?\n",
      "<ipython-input-3-939c9bc3fd23>:20: SyntaxWarning: \"is\" with a literal. Did you mean \"==\"?\n",
      "  if faces is ():\n"
     ]
    }
   ],
   "source": [
    "def training_data_creation(ur_name,no_of_photos=10):\n",
    "\n",
    "    global path_of_user\n",
    "    path_of_user = './faces/'+ur_name+'/'     # './faces/(ur_name)/'\n",
    "    \n",
    "    #creating folder dynamically\n",
    "    os.makedirs(\"faces/\"+ur_name)\n",
    "    \n",
    "    # Load HAAR face classifier\n",
    "    face_classifier = cv2.CascadeClassifier('harcascade_frontalface_default.xml')\n",
    "\n",
    "    # Load functions\n",
    "    def face_extractor(img):\n",
    "        # Function detects faces and returns the cropped face\n",
    "        # If no face detected, it returns the input image\n",
    "    \n",
    "        gray = cv2.cvtColor(img,cv2.COLOR_BGR2GRAY)\n",
    "        faces = face_classifier.detectMultiScale(gray, 1.3, 5)\n",
    "    \n",
    "        if faces is ():\n",
    "            return None\n",
    "        \n",
    "        # Crop all faces found\n",
    "        for (x,y,w,h) in faces:\n",
    "            cropped_face = img[y:y+h, x:x+w]\n",
    "    \n",
    "        return cropped_face\n",
    "    \n",
    "    # Initialize Webcam\n",
    "    cap = cv2.VideoCapture(0)\n",
    "    count = 0\n",
    "\n",
    "    # Collect [no_of_photos]'s samples of your face from webcam input\n",
    "\n",
    "    while True:\n",
    "        ret, frame = cap.read()\n",
    "        if face_extractor(frame) is not None:\n",
    "            count += 1\n",
    "            face = cv2.resize(face_extractor(frame), (200, 200))\n",
    "            face = cv2.cvtColor(face, cv2.COLOR_BGR2GRAY)\n",
    "\n",
    "            # Save file in specified directory with unique name\n",
    "            file_name_path = path_of_user + str(count) + '.jpg'\n",
    "            print(file_name_path)\n",
    "            cv2.imwrite(file_name_path, face)\n",
    "    \n",
    "            # Put count on images and display live count\n",
    "            cv2.putText(face, str(count), (50, 50), cv2.FONT_HERSHEY_COMPLEX, 1, (0,255,0), 2)\n",
    "            cv2.imshow('Face Cropper', face)\n",
    "        else:\n",
    "            print(\"Face not found\")\n",
    "            pass\n",
    "        if cv2.waitKey(1) == 13 or count == no_of_photos:  #13 is the Enter Key\n",
    "            break\n",
    "            \n",
    "    cap.release()\n",
    "    cv2.destroyAllWindows()   \n",
    "    \n",
    "    print(\"\\n\\tUser Name >> \",ur_name,)\n",
    "    print(\"\"\"\n",
    "    >>>>>>>>>>>>>>>>>>>>>>>>>>>>>>>>>>>>>>>>>>>>>>>>>>>>>\n",
    "    (    (   (  ( SAMPLE for user collected )  )   )    )\n",
    "    <<<<<<<<<<<<<<<<<<<<<<<<<<<<<<<<<<<<<<<<<<<<<<<<<<<<<\"\"\")"
   ]
  },
  {
   "cell_type": "code",
   "execution_count": null,
   "metadata": {},
   "outputs": [],
   "source": [
    "#call function to collect training data (give ur name and no. of images u want to click)\n",
    "\n",
    "training_data_creation(ur_name='anuj_test',no_of_photos=200)"
   ]
  },
  {
   "cell_type": "code",
   "execution_count": null,
   "metadata": {},
   "outputs": [],
   "source": [
    "##############################################################\n",
    "##########################################------- Train Model"
   ]
  },
  {
   "cell_type": "code",
   "execution_count": 4,
   "metadata": {},
   "outputs": [],
   "source": [
    "import cv2\n",
    "import numpy as np\n",
    "from os import listdir\n",
    "from os.path import isfile, join"
   ]
  },
  {
   "cell_type": "code",
   "execution_count": 5,
   "metadata": {},
   "outputs": [],
   "source": [
    "def train_model():\n",
    "    user_name = \"anuj_test\"\n",
    "    MODEL_NAME = \"Anuj_test_face_model\"   # put unique and relevant name wrt to the username\n",
    "    FILE_NAME_FOR_SAVING_MODEL = \"anuj_test.yml\"   # filename.yml\n",
    "\n",
    "    # Get the training data we previously made\n",
    "    data_path = './faces/'+user_name+'/'\n",
    "    onlyfiles = [f for f in listdir(data_path) if isfile(join(data_path, f))]\n",
    "\n",
    "    # Create arrays for training data and labels\n",
    "    Training_Data, Labels = [], []\n",
    "\n",
    "    # Open training images in our datapath\n",
    "    # Create a numpy array for training data\n",
    "    for i, files in enumerate(onlyfiles):\n",
    "        image_path = data_path + onlyfiles[i]\n",
    "        images = cv2.imread(image_path, cv2.IMREAD_GRAYSCALE)\n",
    "        Training_Data.append(np.asarray(images, dtype=np.uint8))\n",
    "        Labels.append(i)\n",
    "    \n",
    "    # Create a numpy array for both training data and labels\n",
    "    Labels = np.asarray(Labels, dtype=np.int32)\n",
    "\n",
    "    # Initialize facial recognizer\n",
    "    #model = cv2.face.createLBPHFaceRecognizer()\n",
    "    # NOTE: For OpenCV 3.0 use cv2.face.createLBPHFaceRecognizer()\n",
    "    # pip install opencv-contrib-python\n",
    "    #model = cv2.createLBPHFaceRecognizer()\n",
    "\n",
    "    MODEL_NAME  = cv2.face_LBPHFaceRecognizer.create()\n",
    "    # Let's train our model\n",
    "    MODEL_NAME.train(np.asarray(Training_Data), np.asarray(Labels))\n",
    "    print(\n",
    "\"\"\"\n",
    ">>>>>>>>>>>>>>>>>>>>>>>>>>>>>>>>>>>>>>>>>>>>>>>>>>>>>>>>>>>>>>>>>>>\n",
    "(     (    (   (  ( Model trained sucessefully )  )   )    )     )\n",
    "<<<<<<<<<<<<<<<<<<<<<<<<<<<<<<<<<<<<<<<<<<<<<<<<<<<<<<<<<<<<<<<<<<<\n",
    "\"\"\")\n",
    "    ################################## saving model\n",
    "    def saving_model():\n",
    "        MODEL_NAME.save('./models/'+FILE_NAME_FOR_SAVING_MODEL)\n",
    "        print(\"Model saved in \",'./models/'+FILE_NAME_FOR_SAVING_MODEL)\n",
    "    saving_model()"
   ]
  },
  {
   "cell_type": "code",
   "execution_count": null,
   "metadata": {},
   "outputs": [],
   "source": [
    "train_model()"
   ]
  },
  {
   "cell_type": "code",
   "execution_count": null,
   "metadata": {},
   "outputs": [],
   "source": [
    "#----------------------------- model cration and saving done -----------------------------------------------"
   ]
  },
  {
   "cell_type": "code",
   "execution_count": null,
   "metadata": {},
   "outputs": [],
   "source": []
  },
  {
   "cell_type": "code",
   "execution_count": null,
   "metadata": {},
   "outputs": [],
   "source": []
  },
  {
   "cell_type": "code",
   "execution_count": null,
   "metadata": {},
   "outputs": [],
   "source": [
    "# -------------------------------- now reading and prediction ------------------------------------------"
   ]
  },
  {
   "cell_type": "code",
   "execution_count": 6,
   "metadata": {},
   "outputs": [
    {
     "name": "stdout",
     "output_type": "stream",
     "text": [
      "Model loaded\n"
     ]
    }
   ],
   "source": [
    "################################## reading saved model\n",
    "\n",
    "def reading_saved_model():\n",
    "    global Anuj_test_face_saved_model\n",
    "    Anuj_test_face_saved_model = cv2.face_LBPHFaceRecognizer.create()\n",
    "    Anuj_test_face_saved_model.read('./models/anuj_test.yml')\n",
    "    print('Model loaded')\n",
    "reading_saved_model()\n"
   ]
  },
  {
   "cell_type": "code",
   "execution_count": null,
   "metadata": {},
   "outputs": [],
   "source": []
  },
  {
   "cell_type": "code",
   "execution_count": 7,
   "metadata": {},
   "outputs": [],
   "source": [
    "import passwords\n",
    "import whatsup\n",
    "import mail\n",
    "whatsup_no='8796588001'"
   ]
  },
  {
   "cell_type": "code",
   "execution_count": 8,
   "metadata": {},
   "outputs": [],
   "source": [
    "#Step 3 - Run Our Facial Recognition"
   ]
  },
  {
   "cell_type": "code",
   "execution_count": 9,
   "metadata": {},
   "outputs": [],
   "source": [
    "cap = cv2.VideoCapture(0)"
   ]
  },
  {
   "cell_type": "code",
   "execution_count": 13,
   "metadata": {},
   "outputs": [
    {
     "name": "stderr",
     "output_type": "stream",
     "text": [
      "<>:14: SyntaxWarning: \"is\" with a literal. Did you mean \"==\"?\n",
      "<>:14: SyntaxWarning: \"is\" with a literal. Did you mean \"==\"?\n",
      "<ipython-input-13-fbc925fb43e0>:14: SyntaxWarning: \"is\" with a literal. Did you mean \"==\"?\n",
      "  if faces is ():  # == instead of is here\n"
     ]
    },
    {
     "name": "stdout",
     "output_type": "stream",
     "text": [
      "\n",
      "            >>>>>>>>>>>>>>>>>>>>>>>>>>>>>>>>>>>>>>>\n",
      "            \n",
      "            FACE RECOGNISED SUCCESSFULLY \n",
      "            \n",
      "            INFORMING WITH MAIL AND WHATSUP MESSAGE\n",
      "            \n",
      "            <<<<<<<<<<<<<<<<<<<<<<<<<<<<<<<<<<<<<<<\n",
      "            \n",
      "            \n",
      "An Unexpected Error!\n",
      "WHATSUP MESSAGE SENT SECCESSFULLY\n",
      "EMAIL MESSAGE SENT SECCESSFULLY\n"
     ]
    }
   ],
   "source": [
    "import cv2\n",
    "import numpy as np\n",
    "import os\n",
    "import time\n",
    "\n",
    "\n",
    "face_classifier = cv2.CascadeClassifier('harcascade_frontalface_default.xml')\n",
    "\n",
    "def face_detector(img, size=0.5):\n",
    "    \n",
    "    # Convert image to grayscale\n",
    "    gray = cv2.cvtColor(img,cv2.COLOR_BGR2GRAY)\n",
    "    faces = face_classifier.detectMultiScale(gray, 1.3, 5)\n",
    "    if faces is ():  # == instead of is here\n",
    "        return img, []\n",
    "\n",
    "    for (x,y,w,h) in faces:\n",
    "        cv2.rectangle(img,(x,y),(x+w,y+h),(0,255,255),2)\n",
    "        roi = img[y:y+h, x:x+w]\n",
    "        roi = cv2.resize(roi, (200, 200))\n",
    "    return img, roi\n",
    "\n",
    "# Open Webcam\n",
    "cap = cv2.VideoCapture(0)\n",
    "while True:\n",
    "    ret, frame = cap.read()\n",
    "    image, face = face_detector(frame)\n",
    "    \n",
    "    try:\n",
    "        face = cv2.cvtColor(face, cv2.COLOR_BGR2GRAY)\n",
    "        # Pass face to prediction model\n",
    "        # \"results\" comprises of a tuple containing the label and the confidence value\n",
    "        \n",
    "        results = Anuj_test_face_saved_model.predict(face)\n",
    "        \n",
    "        \n",
    "        if results[1] < 500:\n",
    "            confidence = int( 100 * (1 - (results[1])/400) )\n",
    "            display_string = str(confidence) + '% Confident it is User'\n",
    "            \n",
    "        cv2.putText(image, display_string, (100, 120), cv2.FONT_HERSHEY_COMPLEX, 1, (255,120,150), 2)\n",
    " \n",
    "        if confidence > 84 :\n",
    "            print(\"\"\"\n",
    "            >>>>>>>>>>>>>>>>>>>>>>>>>>>>>>>>>>>>>>>\n",
    "            \n",
    "            FACE RECOGNISED SUCCESSFULLY \n",
    "            \n",
    "            INFORMING WITH MAIL AND WHATSUP MESSAGE\n",
    "            \n",
    "            <<<<<<<<<<<<<<<<<<<<<<<<<<<<<<<<<<<<<<<\n",
    "            \n",
    "            \"\"\")\n",
    "            cv2.putText(image, \"Hey Anuj\", (250, 450), cv2.FONT_HERSHEY_COMPLEX, 1, (0,255,0), 2)\n",
    "            cv2.imshow('Face Recognition SUCCESS',image)\n",
    "            \n",
    "            #put ur logic here##########################################################\n",
    "                \n",
    "            whatsup.send_whatsup_msg(whatsup_no)\n",
    "            print(\"WHATSUP MESSAGE SENT SECCESSFULLY\")\n",
    "            mail.mail_function()\n",
    "            print(\"EMAIL MESSAGE SENT SECCESSFULLY\")\n",
    "                \n",
    "            #end it here################################################################\n",
    "            break\n",
    "            \n",
    "        else:\n",
    "            cv2.putText(image, \"I dont know, how r u\", (250, 450), cv2.FONT_HERSHEY_COMPLEX, 1, (0,0,255), 2)\n",
    "            cv2.imshow('Face Recognition', image )\n",
    "\n",
    "    except:\n",
    "        cv2.putText(image, \"No Face Found\", (220, 120) , cv2.FONT_HERSHEY_COMPLEX, 1, (0,0,255), 2)\n",
    "        cv2.putText(image, \"looking for face\", (250, 450), cv2.FONT_HERSHEY_COMPLEX, 1, (0,0,255), 2)\n",
    "        cv2.imshow('Face Recognition', image )\n",
    "        pass\n",
    "        \n",
    "    if cv2.waitKey(1) == 13: #13 is the Enter Key\n",
    "        break\n",
    "        \n",
    "cap.release()\n",
    "cv2.destroyAllWindows()"
   ]
  },
  {
   "cell_type": "code",
   "execution_count": null,
   "metadata": {},
   "outputs": [],
   "source": [
    "        \n",
    "cap.release()\n",
    "cv2.destroyAllWindows()"
   ]
  },
  {
   "cell_type": "code",
   "execution_count": null,
   "metadata": {},
   "outputs": [],
   "source": []
  }
 ],
 "metadata": {
  "kernelspec": {
   "display_name": "Python 3",
   "language": "python",
   "name": "python3"
  },
  "language_info": {
   "codemirror_mode": {
    "name": "ipython",
    "version": 3
   },
   "file_extension": ".py",
   "mimetype": "text/x-python",
   "name": "python",
   "nbconvert_exporter": "python",
   "pygments_lexer": "ipython3",
   "version": "3.8.3"
  }
 },
 "nbformat": 4,
 "nbformat_minor": 4
}
